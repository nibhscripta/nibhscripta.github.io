{
 "cells": [
  {
   "cell_type": "code",
   "execution_count": null,
   "metadata": {},
   "outputs": [],
   "source": [
    "from control import ss"
   ]
  },
  {
   "cell_type": "code",
   "execution_count": null,
   "metadata": {},
   "outputs": [],
   "source": [
    "from numpy import array\n",
    "A = array([\n",
    "    [-2, 0.5],\n",
    "    [-1, 0]\n",
    "])\n",
    "B = array([\n",
    "    [1, 1],\n",
    "    [0, 1]\n",
    "])\n",
    "c = array([1, 0])\n",
    "d = 0"
   ]
  },
  {
   "cell_type": "code",
   "execution_count": null,
   "metadata": {},
   "outputs": [],
   "source": [
    "sys = ss(A, B, c, d)"
   ]
  },
  {
   "cell_type": "code",
   "execution_count": null,
   "metadata": {},
   "outputs": [],
   "source": [
    "from control import step_response\n",
    "t, y = step_response(sys)"
   ]
  },
  {
   "cell_type": "code",
   "execution_count": null,
   "metadata": {},
   "outputs": [],
   "source": [
    "from matplotlib.pyplot import plot, legend, xlabel, ylabel\n",
    "plot(t, y[0, 0], label=\"h\")\n",
    "plot(t, y[0, 1], label=r\"$e_I$\")\n",
    "xlabel(\"Time\")\n",
    "ylabel(\"Response\")\n",
    "legend()"
   ]
  },
  {
   "cell_type": "code",
   "execution_count": null,
   "metadata": {},
   "outputs": [],
   "source": [
    "from control import input_output_response"
   ]
  },
  {
   "cell_type": "code",
   "execution_count": null,
   "metadata": {},
   "outputs": [],
   "source": [
    "from numpy import ones, zeros, linspace\n",
    "t = linspace(0, 20, 100)\n",
    "u_sp = array([\n",
    "    zeros(100),\n",
    "    ones(100)\n",
    "])\n",
    "\n",
    "t, y = input_output_response(sys, t, u_sp)\n",
    "\n",
    "plot(t, y[0])\n",
    "xlabel(\"Time\")\n",
    "ylabel(\"Response\")"
   ]
  },
  {
   "cell_type": "code",
   "execution_count": null,
   "metadata": {},
   "outputs": [],
   "source": [
    "t = linspace(0, 20, 100)\n",
    "u_disturbance = array([\n",
    "    ones(100),\n",
    "    zeros(100)\n",
    "])\n",
    "\n",
    "t, y = input_output_response(sys, t, u_disturbance)\n",
    "\n",
    "plot(t, y[0])\n",
    "xlabel(\"Time\")\n",
    "ylabel(\"Response\")"
   ]
  }
 ],
 "metadata": {
  "kernelspec": {
   "display_name": "Python 3",
   "language": "python",
   "name": "python3"
  },
  "language_info": {
   "codemirror_mode": {
    "name": "ipython",
    "version": 3
   },
   "file_extension": ".py",
   "mimetype": "text/x-python",
   "name": "python",
   "nbconvert_exporter": "python",
   "pygments_lexer": "ipython3",
   "version": "3.11.0"
  },
  "orig_nbformat": 4
 },
 "nbformat": 4,
 "nbformat_minor": 2
}
